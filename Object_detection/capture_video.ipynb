{
 "cells": [
  {
   "cell_type": "markdown",
   "id": "ff15be9b-f0ab-47ec-9b23-ae4c7f24c44c",
   "metadata": {},
   "source": [
    "# Capture Video\n"
   ]
  },
  {
   "cell_type": "code",
   "execution_count": 1,
   "id": "36c5a892-928f-4430-8e88-b0d74f2773ca",
   "metadata": {},
   "outputs": [],
   "source": [
    "# Doing same face recognition with the webcam"
   ]
  },
  {
   "cell_type": "code",
   "execution_count": 2,
   "id": "8df52b03-d8a8-481c-a2ee-828e801e4c44",
   "metadata": {},
   "outputs": [],
   "source": [
    "import cv2\n",
    "video = cv2.VideoCapture(0)\n",
    "\n",
    "while True:\n",
    "    num, frame = video.read()\n",
    "    gray = cv2.cvtColor(frame, cv2.COLOR_BGR2GRAY)\n",
    "    cv2.imshow('video', frame)\n",
    "    if cv2.waitKey(1) == ord('q'):\n",
    "        break\n",
    "video.release()\n",
    "cv2.destroyAllWindows()\n"
   ]
  },
  {
   "cell_type": "markdown",
   "id": "b6b7118b-7ec6-4691-993f-c505a07a9cca",
   "metadata": {},
   "source": [
    "# Face and eye detection using HaaR Cascade Classifier"
   ]
  },
  {
   "cell_type": "code",
   "execution_count": 4,
   "id": "46c04dde-19ae-42a0-82a8-6bd3fb7146ab",
   "metadata": {},
   "outputs": [],
   "source": [
    "# load the features\n",
    "face_cascade = cv2.CascadeClassifier(r\"C:\\Users\\SHRI\\OneDrive\\Desktop\\DataScience_DataFiles\\Image_data\\Haarcascades\\haarcascade_frontalface_default.xml\")\n",
    "eye_cascade = cv2.CascadeClassifier(r\"C:\\Users\\SHRI\\OneDrive\\Desktop\\DataScience_DataFiles\\Image_data\\Haarcascades\\haarcascade_eye.xml\")\n",
    "\n",
    "def detect(grey, frame):\n",
    "    faces = face_cascade.detectMultiScale(gray, 1.3, 5)\n",
    "    for(x,y,w,h) in faces :\n",
    "        cv2.rectangle(frame, (x,y), (x+w,y+h), (255, 0, 0), 2)\n",
    "        roi_gray = gray[y:y+h, x:x+w]\n",
    "        roi_color = frame[y:y+h, x:x+w]\n",
    "        eyes = eye_cascade.detectMultiScale(roi_gray, 1.1, 3)\n",
    "        for(ex,ey,ew, eh) in eyes:\n",
    "            cv2.rectangle(roi_color, (ex,ey), (ex+ew,ey+eh), (0,255,0),2)\n",
    "    return frame\n",
    "\n",
    "# doing some face recognition with webcam\n",
    "video = cv2.VideoCapture(0)\n",
    "\n",
    "while True:\n",
    "    num, frame = video.read()\n",
    "    gray = cv2.cvtColor(frame, cv2.COLOR_BGR2GRAY)\n",
    "    canvas = detect(gray, frame)\n",
    "    cv2.imshow('Video', frame)\n",
    "    if cv2.waitKey(1) == ord('q'):\n",
    "        break\n",
    "video.release()\n",
    "cv2.destroyAllWindows()\n"
   ]
  },
  {
   "cell_type": "code",
   "execution_count": null,
   "id": "74aa66dd-6722-4480-b991-4aafc2a7dc1a",
   "metadata": {},
   "outputs": [],
   "source": []
  }
 ],
 "metadata": {
  "kernelspec": {
   "display_name": "Python 3 (ipykernel)",
   "language": "python",
   "name": "python3"
  },
  "language_info": {
   "codemirror_mode": {
    "name": "ipython",
    "version": 3
   },
   "file_extension": ".py",
   "mimetype": "text/x-python",
   "name": "python",
   "nbconvert_exporter": "python",
   "pygments_lexer": "ipython3",
   "version": "3.12.4"
  }
 },
 "nbformat": 4,
 "nbformat_minor": 5
}
