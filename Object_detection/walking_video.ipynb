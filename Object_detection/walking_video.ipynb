{
 "cells": [
  {
   "cell_type": "code",
   "execution_count": 1,
   "id": "4bbdf272-9c82-41ab-8bec-79571b3f662a",
   "metadata": {},
   "outputs": [],
   "source": [
    "import cv2\n",
    "\n",
    "# load the features\n",
    "body_classifier = cv2.CascadeClassifier(r\"C:\\Users\\SHRI\\OneDrive\\Desktop\\DataScience_DataFiles\\Image_data\\Haarcascades\\haarcascade_fullbody.xml\")\n",
    "\n",
    "cap = cv2.VideoCapture(r\"C:\\Users\\SHRI\\OneDrive\\Desktop\\DataScience_DataFiles\\Image_data\\image_examples\\walking.avi\")\n",
    "\n",
    "# loop once video successfully loaded\n",
    "while cap.isOpened():\n",
    "    check, frame = cap.read()\n",
    "    gray = cv2.cvtColor(frame, cv2.COLOR_BGR2GRAY)\n",
    "\n",
    "    bodies = body_classifier.detectMultiScale(gray, 1.2,3)\n",
    "\n",
    "    #extract bounding boxes for any bodies identified\n",
    "    for(x,y,w,h) in bodies :\n",
    "        cv2.rectangle(frame, (x,y), (x+w,y+h), (255, 0, 0), 2)\n",
    "        cv2.imshow(\"pedistrains\", frame)\n",
    "    if cv2.waitKey(1) == ord('q'):\n",
    "        break\n",
    "cap.release()\n",
    "\n",
    "cv2.destroyAllWindows()\n"
   ]
  },
  {
   "cell_type": "code",
   "execution_count": 5,
   "id": "ca572edf-90e7-4510-b34f-dfbcd8a54b0b",
   "metadata": {},
   "outputs": [],
   "source": [
    "import cv2\n",
    "import time\n",
    "\n",
    "# load the features\n",
    "body_classifier = cv2.CascadeClassifier(r\"C:\\Users\\SHRI\\OneDrive\\Desktop\\DataScience_DataFiles\\Image_data\\Haarcascades\\haarcascade_car.xml\")\n",
    "\n",
    "cap = cv2.VideoCapture(r\"C:\\Users\\SHRI\\OneDrive\\Desktop\\DataScience_DataFiles\\Image_data\\image_examples\\cars.avi\")\n",
    "\n",
    "# loop once video successfully loaded\n",
    "while cap.isOpened():\n",
    "    time.sleep(.05)\n",
    "    check, frame = cap.read()\n",
    "    gray = cv2.cvtColor(frame, cv2.COLOR_BGR2GRAY)\n",
    "\n",
    "    bodies = body_classifier.detectMultiScale(gray, 1.2,3)\n",
    "\n",
    "    #extract bounding boxes for any bodies identified\n",
    "    for(x,y,w,h) in bodies :\n",
    "        cv2.rectangle(frame, (x,y), (x+w,y+h), (255, 0, 0), 2)\n",
    "        cv2.imshow(\"pedistrains\", frame)\n",
    "    if cv2.waitKey(1) == ord('q'):\n",
    "        break\n",
    "cap.release()\n",
    "\n",
    "cv2.destroyAllWindows()\n"
   ]
  },
  {
   "cell_type": "code",
   "execution_count": null,
   "id": "8acdf129-c5ea-4886-af32-501530ac49e1",
   "metadata": {},
   "outputs": [],
   "source": []
  }
 ],
 "metadata": {
  "kernelspec": {
   "display_name": "Python 3 (ipykernel)",
   "language": "python",
   "name": "python3"
  },
  "language_info": {
   "codemirror_mode": {
    "name": "ipython",
    "version": 3
   },
   "file_extension": ".py",
   "mimetype": "text/x-python",
   "name": "python",
   "nbconvert_exporter": "python",
   "pygments_lexer": "ipython3",
   "version": "3.12.4"
  }
 },
 "nbformat": 4,
 "nbformat_minor": 5
}
