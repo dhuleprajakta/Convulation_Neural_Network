{
 "cells": [
  {
   "cell_type": "raw",
   "id": "72a6627c-0a28-48a9-a8d8-08326f459f50",
   "metadata": {},
   "source": [
    "# pip install opencv-python\n"
   ]
  },
  {
   "cell_type": "code",
   "execution_count": 64,
   "id": "210cffea-0138-487b-bf99-3f2f76761125",
   "metadata": {},
   "outputs": [],
   "source": [
    "import cv2\n",
    "import numpy as np"
   ]
  },
  {
   "cell_type": "markdown",
   "id": "a4194728-73ec-407a-9cc4-7b89af2b1fbc",
   "metadata": {},
   "source": [
    "# Load/Read image"
   ]
  },
  {
   "cell_type": "code",
   "execution_count": 65,
   "id": "7c6a807e-183d-43c8-91b3-c869c7cfdc11",
   "metadata": {},
   "outputs": [],
   "source": [
    "img = cv2.imread(r\"C:\\Users\\SHRI\\OneDrive\\Desktop\\DataScience_DataFiles\\Image_data\\image_examples\\Modi.jpg\", 1)  # 1: color image"
   ]
  },
  {
   "cell_type": "code",
   "execution_count": 66,
   "id": "8f56198f-e9c4-41ee-abcb-57339b890530",
   "metadata": {},
   "outputs": [
    {
     "data": {
      "text/plain": [
       "numpy.ndarray"
      ]
     },
     "execution_count": 66,
     "metadata": {},
     "output_type": "execute_result"
    }
   ],
   "source": [
    "type(img)"
   ]
  },
  {
   "cell_type": "code",
   "execution_count": 67,
   "id": "c5421103-ea1a-4e78-b925-0d73bc689c8a",
   "metadata": {},
   "outputs": [
    {
     "data": {
      "text/plain": [
       "3"
      ]
     },
     "execution_count": 67,
     "metadata": {},
     "output_type": "execute_result"
    }
   ],
   "source": [
    "img.ndim"
   ]
  },
  {
   "cell_type": "code",
   "execution_count": 68,
   "id": "abab8f7b-6847-41b8-8da3-1556092298e0",
   "metadata": {},
   "outputs": [
    {
     "data": {
      "text/plain": [
       "(1358, 1500, 3)"
      ]
     },
     "execution_count": 68,
     "metadata": {},
     "output_type": "execute_result"
    }
   ],
   "source": [
    "img.shape"
   ]
  },
  {
   "cell_type": "code",
   "execution_count": 69,
   "id": "479c0810-1eff-4474-aacc-70c215a0345d",
   "metadata": {},
   "outputs": [
    {
     "name": "stdout",
     "output_type": "stream",
     "text": [
      "[[[255 255 255]\n",
      "  [255 255 255]\n",
      "  [255 255 255]\n",
      "  ...\n",
      "  [255 255 255]\n",
      "  [255 255 255]\n",
      "  [255 255 255]]\n",
      "\n",
      " [[255 255 255]\n",
      "  [255 255 255]\n",
      "  [255 255 255]\n",
      "  ...\n",
      "  [255 255 255]\n",
      "  [255 255 255]\n",
      "  [255 255 255]]\n",
      "\n",
      " [[255 255 255]\n",
      "  [255 255 255]\n",
      "  [255 255 255]\n",
      "  ...\n",
      "  [255 255 255]\n",
      "  [255 255 255]\n",
      "  [255 255 255]]\n",
      "\n",
      " ...\n",
      "\n",
      " [[255 255 255]\n",
      "  [255 255 255]\n",
      "  [255 255 255]\n",
      "  ...\n",
      "  [255 255 255]\n",
      "  [255 255 255]\n",
      "  [255 255 255]]\n",
      "\n",
      " [[255 255 255]\n",
      "  [255 255 255]\n",
      "  [255 255 255]\n",
      "  ...\n",
      "  [255 255 255]\n",
      "  [255 255 255]\n",
      "  [255 255 255]]\n",
      "\n",
      " [[255 255 255]\n",
      "  [255 255 255]\n",
      "  [255 255 255]\n",
      "  ...\n",
      "  [255 255 255]\n",
      "  [255 255 255]\n",
      "  [255 255 255]]]\n"
     ]
    }
   ],
   "source": [
    "print(img)"
   ]
  },
  {
   "cell_type": "code",
   "execution_count": 70,
   "id": "756276a6-e7be-4be0-a86f-ecccd2526f04",
   "metadata": {},
   "outputs": [],
   "source": [
    "# see image\n",
    "cv2.imshow(\"PM\", img)\n",
    "cv2.waitKey(10000)\n",
    "cv2.destroyAllWindows()\n"
   ]
  },
  {
   "cell_type": "code",
   "execution_count": 71,
   "id": "fcfa4109-79d6-45cf-937a-3f3d66ce3168",
   "metadata": {},
   "outputs": [
    {
     "data": {
      "text/plain": [
       "(1358, 1500, 3)"
      ]
     },
     "execution_count": 71,
     "metadata": {},
     "output_type": "execute_result"
    }
   ],
   "source": [
    "img.shape"
   ]
  },
  {
   "cell_type": "markdown",
   "id": "c51d9bde-2af6-4c8c-a8f6-1b4b297c53f8",
   "metadata": {},
   "source": [
    "# Resize Image"
   ]
  },
  {
   "cell_type": "code",
   "execution_count": 72,
   "id": "8517e8c5-7d5a-4db3-9f89-a5e0b1581897",
   "metadata": {},
   "outputs": [],
   "source": [
    "img = cv2.imread(r\"C:\\Users\\SHRI\\OneDrive\\Desktop\\DataScience_DataFiles\\Image_data\\image_examples\\Modi.jpg\", 1)\n",
    "resized_image = cv2.resize(img, (679,679))\n",
    "\n",
    "gray = cv2.cvtColor(resized_image, cv2.COLOR_BGR2GRAY)\n",
    "cv2.imshow(\"PM_image\", gray)\n",
    "cv2.waitKey(10000)\n",
    "cv2.destroyAllWindows()"
   ]
  },
  {
   "cell_type": "code",
   "execution_count": 73,
   "id": "3f2b004e-5a7c-4eea-8491-c35572fa7614",
   "metadata": {},
   "outputs": [],
   "source": [
    "# save the image"
   ]
  },
  {
   "cell_type": "code",
   "execution_count": 74,
   "id": "d6cdd0ba-2cde-4770-815d-16520d3485d5",
   "metadata": {},
   "outputs": [
    {
     "data": {
      "text/plain": [
       "True"
      ]
     },
     "execution_count": 74,
     "metadata": {},
     "output_type": "execute_result"
    }
   ],
   "source": [
    "cv2.imwrite(\"PM_image.jpg\", gray)"
   ]
  },
  {
   "cell_type": "markdown",
   "id": "06eb57d5-4df0-4c3a-ac46-a2c65c88e4a3",
   "metadata": {},
   "source": [
    "# Computer Vision\n",
    "\n",
    "- **Face detection using HaaR Cascade classifier**"
   ]
  },
  {
   "cell_type": "code",
   "execution_count": 75,
   "id": "d61cfc5b-0a14-4927-80cb-be9e379bf0d5",
   "metadata": {},
   "outputs": [],
   "source": [
    "# apply for on what you want to check\n",
    "\n",
    "img = cv2.imread(r\"C:\\Users\\SHRI\\OneDrive\\Desktop\\DataScience_DataFiles\\Image_data\\image_examples\\Modi.jpg\", 1)\n",
    "\n",
    "image = cv2.resize(img, (679,750))\n",
    "\n",
    "gray = cv2.cvtColor(resized_image, cv2.COLOR_BGR2GRAY)\n",
    "\n"
   ]
  },
  {
   "cell_type": "code",
   "execution_count": 76,
   "id": "4f5921bd-fa79-4585-897b-47d9091329ef",
   "metadata": {},
   "outputs": [],
   "source": [
    "\n",
    "# Load the features\n",
    "\n",
    "face_classifier = cv2.CascadeClassifier(r\"C:\\Users\\SHRI\\OneDrive\\Desktop\\DataScience_DataFiles\\Image_data\\Haarcascades\\haarcascade_frontalface_default.xml\")\n"
   ]
  },
  {
   "cell_type": "code",
   "execution_count": 77,
   "id": "22ae5779-4ab4-40be-a2ec-d416b434ffb7",
   "metadata": {},
   "outputs": [],
   "source": [
    "faces = face_classifier.detectMultiScale(gray, 1.5, 5)"
   ]
  },
  {
   "cell_type": "code",
   "execution_count": 78,
   "id": "18af1b56-0187-4493-b0a2-8acda88c42ea",
   "metadata": {},
   "outputs": [
    {
     "data": {
      "text/plain": [
       "array([[291, 118, 273, 273]])"
      ]
     },
     "execution_count": 78,
     "metadata": {},
     "output_type": "execute_result"
    }
   ],
   "source": [
    "faces"
   ]
  },
  {
   "cell_type": "code",
   "execution_count": 79,
   "id": "d90c83ef-9210-4254-822a-a5c50270ca06",
   "metadata": {},
   "outputs": [
    {
     "name": "stderr",
     "output_type": "stream",
     "text": [
      "<>:1: SyntaxWarning: \"is\" with 'tuple' literal. Did you mean \"==\"?\n",
      "<>:1: SyntaxWarning: \"is\" with 'tuple' literal. Did you mean \"==\"?\n",
      "C:\\Users\\SHRI\\AppData\\Local\\Temp\\ipykernel_12300\\3327820655.py:1: SyntaxWarning: \"is\" with 'tuple' literal. Did you mean \"==\"?\n",
      "  if faces is():\n"
     ]
    }
   ],
   "source": [
    "if faces is():\n",
    "    print(\"Face not found\")\n",
    "else:\n",
    "    for(x,y,l,h) in faces:\n",
    "        cv2.rectangle(image, (x,y), (x+l, y+h), (255,0,0), 5)\n",
    "cv2.imshow(\"Face_Detection\", image)\n",
    "cv2.waitKey()\n",
    "cv2.destroyAllWindows()"
   ]
  },
  {
   "cell_type": "markdown",
   "id": "d78eeb9d-47a7-47a1-84d9-01e06aba2aa2",
   "metadata": {},
   "source": [
    "# Face and eye detection using HaaR Cascade classifier"
   ]
  },
  {
   "cell_type": "code",
   "execution_count": 83,
   "id": "24f0e006-e0b0-447d-b86e-6a382cca2f14",
   "metadata": {},
   "outputs": [
    {
     "name": "stderr",
     "output_type": "stream",
     "text": [
      "<>:17: SyntaxWarning: \"is\" with 'tuple' literal. Did you mean \"==\"?\n",
      "<>:17: SyntaxWarning: \"is\" with 'tuple' literal. Did you mean \"==\"?\n",
      "C:\\Users\\SHRI\\AppData\\Local\\Temp\\ipykernel_12300\\1077479162.py:17: SyntaxWarning: \"is\" with 'tuple' literal. Did you mean \"==\"?\n",
      "  if faces is():\n"
     ]
    }
   ],
   "source": [
    "# load the features\n",
    "face_classifier = cv2.CascadeClassifier(r\"C:\\Users\\SHRI\\OneDrive\\Desktop\\DataScience_DataFiles\\Image_data\\Haarcascades\\haarcascade_frontalface_default.xml\")\n",
    "eye_classifier = cv2.CascadeClassifier(r\"C:\\Users\\SHRI\\OneDrive\\Desktop\\DataScience_DataFiles\\Image_data\\Haarcascades\\haarcascade_eye.xml\")\n",
    "\n",
    "\n",
    "# load the image where you want to identify the features'\n",
    "img = cv2.imread(r\"C:\\Users\\SHRI\\OneDrive\\Desktop\\DataScience_DataFiles\\Image_data\\image_examples\\Modi.jpg\", 1)\n",
    "\n",
    "resized_image = cv2.resize(img, (679,750))\n",
    "\n",
    "gray = cv2.cvtColor(resized_image, cv2.COLOR_BGR2GRAY)\n",
    "\n",
    "\n",
    "# detect\n",
    "faces = face_classifier.detectMultiScale(gray, 1.5, 5)\n",
    "\n",
    "if faces is():\n",
    "    print(\"Face not found\")\n",
    "else:\n",
    "    for(x,y,w,h) in faces:\n",
    "        cv2.rectangle(resized_image, (x,y), (x+w, y+h), (255,0,0), 2)\n",
    "        roi_gray = gray[y:y+h, x:x+w]\n",
    "        roi_color = resized_image[y:y+h, x:x+w]\n",
    "\n",
    "        eyes = eye_classifier.detectMultiScale(roi_gray, 1.05, 5)\n",
    "        for(ex,ey, ew, eh) in eyes:\n",
    "            cv2.rectangle(resized_image, (x + ex, y + ey), (x + ex + ew, y + ey + eh), (0, 255, 0), 2)\n",
    "            \n",
    "cv2.imshow(\"Face_eye_Detection\", resized_image)\n",
    "cv2.waitKey()\n",
    "cv2.destroyAllWindows()"
   ]
  },
  {
   "cell_type": "code",
   "execution_count": null,
   "id": "410a7b5d-cf83-4906-ab9b-65a9f531b552",
   "metadata": {},
   "outputs": [],
   "source": []
  }
 ],
 "metadata": {
  "kernelspec": {
   "display_name": "Python 3 (ipykernel)",
   "language": "python",
   "name": "python3"
  },
  "language_info": {
   "codemirror_mode": {
    "name": "ipython",
    "version": 3
   },
   "file_extension": ".py",
   "mimetype": "text/x-python",
   "name": "python",
   "nbconvert_exporter": "python",
   "pygments_lexer": "ipython3",
   "version": "3.12.4"
  }
 },
 "nbformat": 4,
 "nbformat_minor": 5
}
